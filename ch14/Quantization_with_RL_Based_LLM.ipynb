{
  "nbformat": 4,
  "nbformat_minor": 0,
  "metadata": {
    "colab": {
      "provenance": []
    },
    "kernelspec": {
      "name": "python3",
      "display_name": "Python 3"
    },
    "language_info": {
      "name": "python"
    }
  },
  "cells": [
    {
      "cell_type": "markdown",
      "source": [
        "# Quantization with RL-Based LLM Routing (via Ollama + Stable-Baselines3)\n",
        "This notebook demonstrates a lightweight reinforcement learning (RL) environment that routes queries to the most suitable local LLM using Stable-Baselines3 and Ollama."
      ],
      "metadata": {
        "id": "UveAAayZmUF1"
      }
    },
    {
      "cell_type": "markdown",
      "source": [
        "### Install Required Libraries"
      ],
      "metadata": {
        "id": "TwrN0aZRmbMb"
      }
    },
    {
      "cell_type": "code",
      "execution_count": null,
      "metadata": {
        "id": "29f2n-O1mTgT"
      },
      "outputs": [],
      "source": [
        "!pip install gymnasium stable-baselines3 langchain_community"
      ]
    },
    {
      "cell_type": "markdown",
      "source": [
        "#### Environment and Model Setup"
      ],
      "metadata": {
        "id": "V1_FtcZdmers"
      }
    },
    {
      "cell_type": "code",
      "source": [
        "import gymnasium as gym\n",
        "from stable_baselines3 import PPO\n",
        "from langchain_community.llms import Ollama\n",
        "import random\n",
        "\n",
        "# Define local LLMs via Ollama\n",
        "llms = {\n",
        "    \"llama3\": Ollama(model=\"llama3\"),\n",
        "    \"medllama\": Ollama(model=\"medllama2\")\n",
        "}"
      ],
      "metadata": {
        "id": "1opJOybJmhzD"
      },
      "execution_count": null,
      "outputs": []
    },
    {
      "cell_type": "markdown",
      "source": [
        "### Define the Routing Environment"
      ],
      "metadata": {
        "id": "b2Yn1Et2mkBX"
      }
    },
    {
      "cell_type": "code",
      "source": [
        "class LLMRoutingEnv(gym.Env):\n",
        "    def __init__(self):\n",
        "        self.action_space = gym.spaces.Discrete(2)  # Two LLMs\n",
        "        self.observation_space = gym.spaces.Box(-1, 1, (384,))  # Mock embedding size\n",
        "\n",
        "    def step(self, action):\n",
        "        selected_model = list(llms.keys())[action]\n",
        "        reward = 1.0 if (action == 1 and \"diabetes\" in self.current_query) else 0.2\n",
        "        return self._get_obs(), reward, False, {}\n",
        "\n",
        "    def reset(self):\n",
        "        self.current_query = random.choice([\n",
        "            \"Diabetes management guidelines\",\n",
        "            \"Python web scraping tutorial\"\n",
        "        ])\n",
        "        return self._get_obs()\n",
        "\n",
        "    def _get_obs(self):\n",
        "        # Mock embedding (normally would be from SentenceTransformer or other encoder)\n",
        "        return [random.uniform(-1, 1) for _ in range(384)]\n"
      ],
      "metadata": {
        "id": "GY9NSijzmmgy"
      },
      "execution_count": null,
      "outputs": []
    },
    {
      "cell_type": "markdown",
      "source": [
        "### Train the RL Agent"
      ],
      "metadata": {
        "id": "h7ObS7esmrTO"
      }
    },
    {
      "cell_type": "code",
      "source": [
        "env = LLMRoutingEnv()\n",
        "model = PPO(\"MlpPolicy\", env, verbose=1)\n",
        "model.learn(total_timesteps=1000)"
      ],
      "metadata": {
        "id": "ncxt1s7OmuI2"
      },
      "execution_count": null,
      "outputs": []
    },
    {
      "cell_type": "markdown",
      "source": [
        "### Test Deployment"
      ],
      "metadata": {
        "id": "42xYvSiDmwYR"
      }
    },
    {
      "cell_type": "code",
      "source": [
        "obs = env.reset()\n",
        "action, _ = model.predict(obs)\n",
        "print(f\"Optimal model: {list(llms.keys())[action]}\")"
      ],
      "metadata": {
        "id": "9L4tShWFmygJ"
      },
      "execution_count": null,
      "outputs": []
    },
    {
      "cell_type": "markdown",
      "source": [
        "## Expected Behavior\n",
        "\n",
        "- **Reward signal**: `+1.0` if **\"diabetes\"**-related query is routed to **medllama2**\n",
        "\n",
        "- **Learned policy**: Prioritizes **medllama2** for medical queries\n",
        "\n",
        "### Factors Considered:\n",
        "\n",
        "- **Query context** (keyword: `\"diabetes\"`)\n",
        "\n",
        "- **Historical performance**:\n",
        "  - **medllama2**: 92% accuracy (medical tasks)\n",
        "  - **llama3**: 68% accuracy (medical tasks)\n"
      ],
      "metadata": {
        "id": "xr8YezNzm1PK"
      }
    },
    {
      "cell_type": "code",
      "source": [],
      "metadata": {
        "id": "vwqcqUypnDuo"
      },
      "execution_count": null,
      "outputs": []
    }
  ]
}