{
  "nbformat": 4,
  "nbformat_minor": 0,
  "metadata": {
    "colab": {
      "provenance": []
    },
    "kernelspec": {
      "name": "python3",
      "display_name": "Python 3"
    },
    "language_info": {
      "name": "python"
    }
  },
  "cells": [
    {
      "cell_type": "markdown",
      "source": [
        "# Semantic Routing (Clustering Queries by Intent)\n",
        "\n",
        "**Semantic routing** represents a major step forward from traditional rule-based routing by analyzing the **meaning and intent** behind queries.\n",
        "\n",
        "Instead of relying on keyword matches or hardcoded rules, semantic routing uses **vector embeddings** to cluster queries by **semantic similarity**, allowing dynamic and accurate routing to the right model or service.\n",
        "\n",
        "---\n",
        "\n",
        "## Key Idea\n",
        "\n",
        "Semantic routing converts the routing problem into a **high-dimensional similarity search**, where:\n",
        "\n",
        "- Incoming queries are **encoded as embeddings**\n",
        "- These are matched to **predefined intent clusters** or model capabilities\n",
        "- Routing is based on **semantic proximity**, not keywords\n",
        "\n",
        "---\n",
        "\n",
        "## Example: Open-Source Semantic Routing with `semantic-router`"
      ],
      "metadata": {
        "id": "Hk4JIy7rkg74"
      }
    },
    {
      "cell_type": "code",
      "execution_count": null,
      "metadata": {
        "id": "mZgkZZogkgdA"
      },
      "outputs": [],
      "source": [
        "pip install semantic-router==0.0.9 \\\n",
        "            transformers sentence-transformers \\\n",
        "            llama-index langchain huggingface-hub\n"
      ]
    },
    {
      "cell_type": "markdown",
      "source": [
        "### Basic Usage"
      ],
      "metadata": {
        "id": "dcBj3wsKkmD_"
      }
    },
    {
      "cell_type": "code",
      "source": [
        "from semantic_router import Route, RouteLayer\n",
        "from semantic_router.encoders import HuggingFaceEncoder\n",
        "\n",
        "# Use free Sentence-BERT model for encoding\n",
        "encoder = HuggingFaceEncoder(\"sentence-transformers/all-MiniLM-L6-v2\")\n",
        "\n",
        "# Define routes with example intents\n",
        "routes = [\n",
        "   Route(name=\"medical\", utterances=[\"What are COVID symptoms?\", \"How to treat migraine?\"], encoder=encoder),\n",
        "   Route(name=\"technical\", utterances=[\"Python quicksort code\", \"SQL join optimization\"])\n",
        "]\n",
        "\n",
        "# Create router\n",
        "router = RouteLayer(encoder=encoder, routes=routes)\n",
        "\n",
        "# Test a new query\n",
        "query = \"Signs of diabetes in elderly patients\"\n",
        "print(router(query).name)  # Output: \"medical\""
      ],
      "metadata": {
        "id": "9l6unPmMktfi"
      },
      "execution_count": null,
      "outputs": []
    },
    {
      "cell_type": "markdown",
      "source": [
        "## 🔍 How It Works\n",
        "\n",
        "###  Embeddings\n",
        "Both the **query** and **reference utterances** are transformed into **vector embeddings** using a shared encoder  \n",
        "(e.g., `all-MiniLM-L6-v2`, `text-embedding-ada-002`, etc.).\n",
        "\n",
        "---\n",
        "\n",
        "###  Similarity Matching\n",
        "The **incoming query** is compared to all defined routes using **cosine similarity** in the embedding space  \n",
        "to find the **most semantically similar** intent cluster.\n",
        "\n",
        "---\n",
        "\n",
        "###  RouteLayer\n",
        "`RouteLayer` automatically determines the **intent class** the query belongs to  \n",
        "and **routes** it to the corresponding handler or model.\n"
      ],
      "metadata": {
        "id": "uW0Hqd-3kwDV"
      }
    },
    {
      "cell_type": "code",
      "source": [],
      "metadata": {
        "id": "MY7Hs9Urk-hG"
      },
      "execution_count": null,
      "outputs": []
    }
  ]
}