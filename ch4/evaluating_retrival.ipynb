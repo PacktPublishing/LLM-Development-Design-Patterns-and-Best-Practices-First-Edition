{
 "cells": [
  {
   "cell_type": "code",
   "execution_count": 1,
   "id": "ff0f3a52-13d8-48b5-aa50-983e5ee6e9c3",
   "metadata": {},
   "outputs": [
    {
     "name": "stdout",
     "output_type": "stream",
     "text": [
      "Relevant docs: {1, 3}\n",
      "Retrieved docs: [1, 2, 4]\n",
      "Precision: 0.33\n",
      "Recall: 0.50\n"
     ]
    }
   ],
   "source": [
    "# Example: Calculating Precision and Recall\n",
    "\n",
    "# Suppose we have a set of truly relevant document IDs for a particular query:\n",
    "relevant_docs = {1, 3}\n",
    "\n",
    "# The system retrieves a ranked list of documents:\n",
    "retrieved_docs = [1, 2, 4]  # for example\n",
    "\n",
    "precision = len(set(retrieved_docs) & relevant_docs) / len(retrieved_docs)\n",
    "recall = len(set(retrieved_docs) & relevant_docs) / len(relevant_docs)\n",
    "\n",
    "print(\"Relevant docs:\", relevant_docs)\n",
    "print(\"Retrieved docs:\", retrieved_docs)\n",
    "print(f\"Precision: {precision:.2f}\")\n",
    "print(f\"Recall: {recall:.2f}\")\n"
   ]
  },
  {
   "cell_type": "code",
   "execution_count": null,
   "id": "01a0a146-4ece-4af9-b038-5fdec1e9273c",
   "metadata": {},
   "outputs": [],
   "source": []
  }
 ],
 "metadata": {
  "kernelspec": {
   "display_name": "Python 3 (ipykernel)",
   "language": "python",
   "name": "python3"
  },
  "language_info": {
   "codemirror_mode": {
    "name": "ipython",
    "version": 3
   },
   "file_extension": ".py",
   "mimetype": "text/x-python",
   "name": "python",
   "nbconvert_exporter": "python",
   "pygments_lexer": "ipython3",
   "version": "3.13.0"
  }
 },
 "nbformat": 4,
 "nbformat_minor": 5
}
