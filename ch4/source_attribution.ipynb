{
 "cells": [
  {
   "cell_type": "code",
   "execution_count": 3,
   "id": "30fdc7ca-8b0f-4847-be8d-1eb7b4d4a9a0",
   "metadata": {},
   "outputs": [],
   "source": [
    "from langchain.document_loaders import TextLoader\n",
    "from langchain.embeddings.ollama import OllamaEmbeddings\n",
    "from langchain.text_splitter import RecursiveCharacterTextSplitter\n",
    "from langchain.vectorstores import Chroma\n",
    "from langchain.chains import RetrievalQA\n",
    "from langchain.document_loaders import PyPDFLoader"
   ]
  },
  {
   "cell_type": "code",
   "execution_count": 4,
   "id": "3344475c-2a05-4cc8-842b-8be4f14668ac",
   "metadata": {},
   "outputs": [],
   "source": [
    "# Load and process documents\n",
    "loader = PyPDFLoader(\"eu_ai_act.pdf\")\n",
    "documents = loader.load()"
   ]
  },
  {
   "cell_type": "code",
   "execution_count": 5,
   "id": "5e7e0e11-6f89-4389-a955-f8b2666f284d",
   "metadata": {},
   "outputs": [],
   "source": [
    "splitter = RecursiveCharacterTextSplitter(chunk_size=800, chunk_overlap=100)\n",
    "split_docs = splitter.split_documents(documents)"
   ]
  },
  {
   "cell_type": "code",
   "execution_count": 8,
   "id": "6027f52c-c176-49cb-b0a8-c3d97cc64945",
   "metadata": {},
   "outputs": [],
   "source": [
    "# Embed and index documents\n",
    "embeddings = OllamaEmbeddings(model=\"llama3\")"
   ]
  },
  {
   "cell_type": "code",
   "execution_count": 12,
   "id": "e7cd0de6-e900-4d7a-bee5-aa93b040cf38",
   "metadata": {},
   "outputs": [],
   "source": [
    "vectorstore = Chroma.from_documents(split_docs, embeddings)"
   ]
  },
  {
   "cell_type": "code",
   "execution_count": 11,
   "id": "37f25584-6f14-4628-976e-3552deba2aad",
   "metadata": {},
   "outputs": [],
   "source": [
    "# !pip install chromadb"
   ]
  },
  {
   "cell_type": "code",
   "execution_count": 40,
   "id": "b7f24699-2eea-47a1-a18a-78313374b588",
   "metadata": {},
   "outputs": [],
   "source": [
    "retriever = vectorstore.as_retriever(search_type=\"similarity_score_threshold\",\n",
    "                                     search_kwargs={\"score_threshold\": 0.75})"
   ]
  },
  {
   "cell_type": "code",
   "execution_count": 15,
   "id": "78dd1f5b-7286-485d-8b07-d2f28b6e4ed9",
   "metadata": {},
   "outputs": [],
   "source": [
    "from langchain_ollama import ChatOllama\n",
    "\n",
    "llm = ChatOllama(\n",
    "    model=\"llama3\",\n",
    "    temperature=0,  # Adjust temperature for desired response variability\n",
    ")\n"
   ]
  },
  {
   "cell_type": "code",
   "execution_count": 20,
   "id": "28014d6a-3624-41d4-a2af-a4f581aa7ba4",
   "metadata": {},
   "outputs": [],
   "source": [
    "from langchain import PromptTemplate"
   ]
  },
  {
   "cell_type": "code",
   "execution_count": 21,
   "id": "e28d1adc-b750-4a3d-92b8-d546d3234ac5",
   "metadata": {},
   "outputs": [],
   "source": [
    "# Prompt\n",
    "template = \"\"\"Use the following pieces of context to answer the question at the end.\n",
    "If you don't know the answer, just say that you don't know, don't try to make up an answer.\n",
    "Use three sentences maximum and keep the answer as concise as possible.\n",
    "{context}\n",
    "Question: {question}\n",
    "Helpful Answer:\"\"\"\n",
    "QA_CHAIN_PROMPT = PromptTemplate(\n",
    "    input_variables=[\"context\", \"question\"],\n",
    "    template=template,\n",
    ")"
   ]
  },
  {
   "cell_type": "code",
   "execution_count": 41,
   "id": "e291ceb5-a399-4708-aa3c-32a3de30090e",
   "metadata": {},
   "outputs": [],
   "source": [
    "qa_chain = RetrievalQA.from_chain_type(\n",
    "        llm,\n",
    "        retriever=vectorstore.as_retriever(),\n",
    "        chain_type_kwargs={\"prompt\": QA_CHAIN_PROMPT},\n",
    "    )"
   ]
  },
  {
   "cell_type": "code",
   "execution_count": 42,
   "id": "c86f3397-c5f9-4d27-a949-0bed379f2878",
   "metadata": {},
   "outputs": [
    {
     "name": "stdout",
     "output_type": "stream",
     "text": [
      "The EU AI Act does not explicitly address data governance as a main aspect, but rather focuses on ensuring high-risk AI systems comply with requirements established in Chapter 2. The regulation emphasizes the importance of confidentiality and sets out rules for information exchange (Title X).\n"
     ]
    }
   ],
   "source": [
    "query = \"what's the main asepcts of the EU AI Act regarding data governance\"\n",
    "response = qa_chain.run(query)\n",
    "print(response)"
   ]
  },
  {
   "cell_type": "code",
   "execution_count": 34,
   "id": "e3cfa084-f225-43db-8fc1-6e2c85f91967",
   "metadata": {},
   "outputs": [],
   "source": [
    "from langchain_core.runnables import RunnablePassthrough\n",
    "from langchain_core.output_parsers import StrOutputParser\n",
    "from langchain import hub\n"
   ]
  },
  {
   "cell_type": "code",
   "execution_count": 35,
   "id": "eec4674d-af55-4c1a-b4ae-d010b7bc355a",
   "metadata": {},
   "outputs": [
    {
     "name": "stderr",
     "output_type": "stream",
     "text": [
      "/Users/amenshawy/Documents/teaching/arabsera/AIEng-Labs/aieng-week4/lib/python3.9/site-packages/langsmith/client.py:261: LangSmithMissingAPIKeyWarning: API key must be provided when using hosted LangSmith API\n",
      "  warnings.warn(\n"
     ]
    }
   ],
   "source": [
    "prompt = hub.pull(\"rlm/rag-prompt\")"
   ]
  },
  {
   "cell_type": "code",
   "execution_count": 43,
   "id": "b157a87a-284f-4fa6-9ffc-9ec14c48c9e7",
   "metadata": {},
   "outputs": [],
   "source": [
    "\n",
    "def format_docs(docs):\n",
    "    return \"\\n\\n\".join(doc.page_content for doc in docs)\n",
    "\n",
    "\n",
    "rag_chain = (\n",
    "    {\"context\": retriever | format_docs, \"question\": RunnablePassthrough()}\n",
    "    | prompt\n",
    "    | llm\n",
    "    | StrOutputParser()\n",
    ")"
   ]
  },
  {
   "cell_type": "code",
   "execution_count": 44,
   "id": "b5e5eb91-775d-45cd-83e2-a0749315bf32",
   "metadata": {},
   "outputs": [
    {
     "name": "stderr",
     "output_type": "stream",
     "text": [
      "/Users/amenshawy/Documents/teaching/arabsera/AIEng-Labs/aieng-week4/lib/python3.9/site-packages/langchain_core/vectorstores/base.py:1083: UserWarning: Relevance scores must be between 0 and 1, got [(Document(metadata={'page': 75, 'source': 'eu_ai_act.pdf'}, page_content='Directive 2013/36/EU and for high -risk AI systems which are safety components of \\ndevices, or are themselves devices, covered by Regulation (EU) 2017/745 and \\nRegulation (EU) 2017/746, the notification of serious incidents or malfunctioning \\nshall be limited to those that that constitute a breach of obligations under Union law \\nintended to protect fundamental rights.'), -13261.063894740098), (Document(metadata={'page': 16, 'source': 'eu_ai_act.pdf'}, page_content='Title XII contains an obligation for the Commission to assess regularly the need for an update \\nof Annex III and to prepare regular reports on the evaluation and review of the regulation. It \\nalso lays d own final provisions, including a differentiated transitional period for the initial \\ndate of the applicability of the regulation to facilitate the smooth implementation for all \\nparties concerned.'), -13514.489860263013), (Document(metadata={'page': 27, 'source': 'eu_ai_act.pdf'}, page_content='and may infringe their fundamental rights, such as the right to social protection, non -\\ndiscrimination, human dignity or an effective remedy. Those systems should therefore \\nbe classified as high -risk. Nonetheless, this Regulation should not hamper the \\ndevelopment and use of innovative approaches in the public administration, which \\nwould stand to benefit from  a wider use of compliant and safe AI systems, provided \\nthat those systems do not entail a high risk to legal and natural persons. Finally, AI \\nsystems used to dispatch or establish priority in the dispatching of emergency first \\nresponse services should als o be classified as high -risk since they make decisions in \\nvery critical situations for the life and health of persons and their property.'), -13597.834547823648), (Document(metadata={'page': 85, 'source': 'eu_ai_act.pdf'}, page_content='meaning of Regulation (EU) YYY/XX [on Artificial Intelligence]  of the European Parliament \\nand of the Council*, the requirements set out in Title III, Chapter 2 of that Regulation shall be \\ntaken into account. \\n__________ \\n* Regulation (EU) YYY/XX [on Artificial Intelligence] (OJ …).”.'), -13740.178457439537)]\n",
      "  self.vectorstore.similarity_search_with_relevance_scores(\n",
      "No relevant docs were retrieved using the relevance score threshold 0.75\n"
     ]
    },
    {
     "data": {
      "text/plain": [
       "\"According to the EU AI Act, providers of high-risk AI systems must comply with more stringent transparency obligations than those for general-purpose AI systems. Specifically, they must provide clear information about the system's decision-making process and the data used to train it, as well as notify users if the system makes a mistake that could have significant consequences. This is in addition to the general obligation to provide transparent information about the AI system's functionality and limitations.\""
      ]
     },
     "execution_count": 44,
     "metadata": {},
     "output_type": "execute_result"
    }
   ],
   "source": [
    "rag_chain.invoke(\"According to the EU AI Act, what transparency obligations must providers of high-risk AI systems comply with, and how do these differ from obligations for general-purpose AI systems?\")\n"
   ]
  },
  {
   "cell_type": "code",
   "execution_count": 39,
   "id": "91d9c4b6-5e09-4725-abc4-464259699811",
   "metadata": {},
   "outputs": [
    {
     "data": {
      "text/plain": [
       "{'context': [Document(metadata={'page': 75, 'source': 'eu_ai_act.pdf'}, page_content='Directive 2013/36/EU and for high -risk AI systems which are safety components of \\ndevices, or are themselves devices, covered by Regulation (EU) 2017/745 and \\nRegulation (EU) 2017/746, the notification of serious incidents or malfunctioning \\nshall be limited to those that that constitute a breach of obligations under Union law \\nintended to protect fundamental rights.'),\n",
       "  Document(metadata={'page': 16, 'source': 'eu_ai_act.pdf'}, page_content='Title XII contains an obligation for the Commission to assess regularly the need for an update \\nof Annex III and to prepare regular reports on the evaluation and review of the regulation. It \\nalso lays d own final provisions, including a differentiated transitional period for the initial \\ndate of the applicability of the regulation to facilitate the smooth implementation for all \\nparties concerned.'),\n",
       "  Document(metadata={'page': 27, 'source': 'eu_ai_act.pdf'}, page_content='and may infringe their fundamental rights, such as the right to social protection, non -\\ndiscrimination, human dignity or an effective remedy. Those systems should therefore \\nbe classified as high -risk. Nonetheless, this Regulation should not hamper the \\ndevelopment and use of innovative approaches in the public administration, which \\nwould stand to benefit from  a wider use of compliant and safe AI systems, provided \\nthat those systems do not entail a high risk to legal and natural persons. Finally, AI \\nsystems used to dispatch or establish priority in the dispatching of emergency first \\nresponse services should als o be classified as high -risk since they make decisions in \\nvery critical situations for the life and health of persons and their property.'),\n",
       "  Document(metadata={'page': 85, 'source': 'eu_ai_act.pdf'}, page_content='meaning of Regulation (EU) YYY/XX [on Artificial Intelligence]  of the European Parliament \\nand of the Council*, the requirements set out in Title III, Chapter 2 of that Regulation shall be \\ntaken into account. \\n__________ \\n* Regulation (EU) YYY/XX [on Artificial Intelligence] (OJ …).”.')],\n",
       " 'question': 'According to the EU AI Act, what transparency obligations must providers of high-risk AI systems comply with, and how do these differ from obligations for general-purpose AI systems?',\n",
       " 'answer': 'According to the EU AI Act, providers of high-risk AI systems must comply with transparency obligations related to serious incidents or malfunctioning that breach fundamental rights, such as social protection, non-discrimination, human dignity, or an effective remedy. This differs from general-purpose AI systems, which do not have these specific transparency requirements.'}"
      ]
     },
     "execution_count": 39,
     "metadata": {},
     "output_type": "execute_result"
    }
   ],
   "source": [
    "from langchain_core.runnables import RunnableParallel\n",
    "\n",
    "rag_chain_from_docs = (\n",
    "    RunnablePassthrough.assign(context=(lambda x: format_docs(x[\"context\"])))\n",
    "    | prompt\n",
    "    | llm\n",
    "    | StrOutputParser()\n",
    ")\n",
    "\n",
    "rag_chain_with_source = RunnableParallel(\n",
    "    {\"context\": retriever, \"question\": RunnablePassthrough()}\n",
    ").assign(answer=rag_chain_from_docs)\n",
    "\n",
    "rag_chain_with_source.invoke(\"According to the EU AI Act, what transparency obligations must providers of high-risk AI systems comply with, and how do these differ from obligations for general-purpose AI systems?\")"
   ]
  },
  {
   "cell_type": "code",
   "execution_count": 47,
   "id": "82655de0-187a-4107-a220-04b5a6b1300d",
   "metadata": {},
   "outputs": [
    {
     "name": "stdout",
     "output_type": "stream",
     "text": [
      "[Document(metadata={'page': 16, 'source': 'eu_ai_act.pdf'}, page_content='Title XII contains an obligation for the Commission to assess regularly the need for an update \\nof Annex III and to prepare regular reports on the evaluation and review of the regulation. It \\nalso lays d own final provisions, including a differentiated transitional period for the initial \\ndate of the applicability of the regulation to facilitate the smooth implementation for all \\nparties concerned.'), Document(metadata={'page': 45, 'source': 'eu_ai_act.pdf'}, page_content='1. Irrespective of whether an AI system is placed on the market or put into service \\nindependently from the products referred to in points (a) and (b), that AI system shall \\nbe considered high-risk where both of the following conditions are fulfilled: \\n(a) the AI system is i ntended to be used as a safety component of a product, or is \\nitself a product, covered by the Union harmonisation legislation listed in Annex \\nII;  \\n(b) the product whose safety component is the AI system, or the AI system itself as \\na product, is required to  undergo a third -party conformity assessment with a \\nview to the placing on the market or putting into service of that product \\npursuant to the Union harmonisation legislation listed in Annex II.'), Document(metadata={'page': 20, 'source': 'eu_ai_act.pdf'}, page_content='(13) In order to ensure a consistent and high level of protection of public interests as \\nregards health, safety and fundamental rights, common normative standards for all \\nhigh-risk AI systems should be established. Those standards should be consistent with  \\nthe Charter of fundamental rights of the European Union (the Charter) and should be \\nnon-discriminatory and in line with the Union’s international trade commitments.'), Document(metadata={'page': 7, 'source': 'eu_ai_act.pdf'}, page_content='organisations/associations, 406 from individuals (92%individuals from EU ), 152 on behalf of \\n                                                 \\n22 See all consultation results here.')]\n"
     ]
    }
   ],
   "source": [
    "# Adding new documents to the index\n",
    "from langchain_core.documents import Document\n",
    "\n",
    "new_docs = [\n",
    "    Document(page_content=\"Solar panels improve energy independence.\",\n",
    "             metadata={\"source\": \"Report_C\", \"author\": \"EnergyWorld\", \"date\": \"2023-06-20\"})\n",
    "]\n",
    "\n",
    "loader2 = PyPDFLoader(\"eu_ai_act.pdf\")\n",
    "documents2 = loader.load()\n",
    "\n",
    "vectorstore.add_documents(documents2)\n",
    "retriever = vectorstore.as_retriever()\n",
    "query = \"Explain the role of solar panels in sustainability.\"\n",
    "print(retriever.get_relevant_documents(query))\n"
   ]
  },
  {
   "cell_type": "code",
   "execution_count": 52,
   "id": "baf3fe87-4d36-4696-aa69-c047e4416c5f",
   "metadata": {},
   "outputs": [
    {
     "name": "stdout",
     "output_type": "stream",
     "text": [
      "Number of chunks created: 497\n",
      "Embeddings stored in Chroma vector database.\n"
     ]
    },
    {
     "name": "stderr",
     "output_type": "stream",
     "text": [
      "/Users/amenshawy/Documents/teaching/arabsera/AIEng-Labs/aieng-week4/lib/python3.9/site-packages/langsmith/client.py:261: LangSmithMissingAPIKeyWarning: API key must be provided when using hosted LangSmith API\n",
      "  warnings.warn(\n"
     ]
    },
    {
     "name": "stdout",
     "output_type": "stream",
     "text": [
      "\n",
      "--- RAG Chain Response ---\n",
      "According to the EU AI Act, providers of high-risk AI systems must comply with transparency obligations related to serious incidents or malfunctions that constitute a breach of obligations under Union law intended to protect fundamental rights. This differs from general-purpose AI systems, which do not have these specific transparency requirements.\n"
     ]
    },
    {
     "name": "stderr",
     "output_type": "stream",
     "text": [
      "/Users/amenshawy/Documents/teaching/arabsera/AIEng-Labs/aieng-week4/lib/python3.9/site-packages/langsmith/client.py:261: LangSmithMissingAPIKeyWarning: API key must be provided when using hosted LangSmith API\n",
      "  warnings.warn(\n"
     ]
    },
    {
     "name": "stdout",
     "output_type": "stream",
     "text": [
      "\n",
      "--- RAG Chain Response with Sources ---\n",
      "{'context': [Document(metadata={'page': 75, 'source': 'eu_ai_act.pdf'}, page_content='Directive 2013/36/EU and for high -risk AI systems which are safety components of \\ndevices, or are themselves devices, covered by Regulation (EU) 2017/745 and \\nRegulation (EU) 2017/746, the notification of serious incidents or malfunctioning \\nshall be limited to those that that constitute a breach of obligations under Union law \\nintended to protect fundamental rights.'), Document(metadata={'page': 75, 'source': 'eu_ai_act.pdf'}, page_content='Directive 2013/36/EU and for high -risk AI systems which are safety components of \\ndevices, or are themselves devices, covered by Regulation (EU) 2017/745 and \\nRegulation (EU) 2017/746, the notification of serious incidents or malfunctioning \\nshall be limited to those that that constitute a breach of obligations under Union law \\nintended to protect fundamental rights.'), Document(metadata={'page': 75, 'source': 'eu_ai_act.pdf'}, page_content='Directive 2013/36/EU and for high -risk AI systems which are safety components of \\ndevices, or are themselves devices, covered by Regulation (EU) 2017/745 and \\nRegulation (EU) 2017/746, the notification of serious incidents or malfunctioning \\nshall be limited to those that that constitute a breach of obligations under Union law \\nintended to protect fundamental rights.'), Document(metadata={'page': 75, 'source': 'eu_ai_act.pdf'}, page_content='Directive 2013/36/EU and for high -risk AI systems which are safety components of \\ndevices, or are themselves devices, covered by Regulation (EU) 2017/745 and \\nRegulation (EU) 2017/746, the notification of serious incidents or malfunctioning \\nshall be limited to those that that constitute a breach of obligations under Union law \\nintended to protect fundamental rights.')], 'question': 'According to the EU AI Act, what transparency obligations must providers of high-risk AI systems comply with, and how do these differ from obligations for general-purpose AI systems?', 'answer': 'According to the EU AI Act, providers of high-risk AI systems must comply with transparency obligations related to serious incidents or malfunctions that constitute a breach of obligations under Union law intended to protect fundamental rights. This differs from general-purpose AI systems, which do not have these specific transparency requirements.'}\n",
      "\n",
      "--- Updated Query Results ---\n",
      "Title XII contains an obligation for the Commission to assess regularly the need for an update \n",
      "of Annex III and to prepare regular reports on the evaluation and review of the regulation. It \n",
      "also lays d own final provisions, including a differentiated transitional period for the initial \n",
      "date of the applicability of the regulation to facilitate the smooth implementation for all \n",
      "parties concerned.\n",
      "Title XII contains an obligation for the Commission to assess regularly the need for an update \n",
      "of Annex III and to prepare regular reports on the evaluation and review of the regulation. It \n",
      "also lays d own final provisions, including a differentiated transitional period for the initial \n",
      "date of the applicability of the regulation to facilitate the smooth implementation for all \n",
      "parties concerned.\n",
      "Title XII contains an obligation for the Commission to assess regularly the need for an update \n",
      "of Annex III and to prepare regular reports on the evaluation and review of the regulation. It \n",
      "also lays d own final provisions, including a differentiated transitional period for the initial \n",
      "date of the applicability of the regulation to facilitate the smooth implementation for all \n",
      "parties concerned.\n",
      "Title XII contains an obligation for the Commission to assess regularly the need for an update \n",
      "of Annex III and to prepare regular reports on the evaluation and review of the regulation. It \n",
      "also lays d own final provisions, including a differentiated transitional period for the initial \n",
      "date of the applicability of the regulation to facilitate the smooth implementation for all \n",
      "parties concerned.\n"
     ]
    }
   ],
   "source": [
    "# Script for EU AI Act Analysis with Document Embedding and Retrieval\n",
    "# ---------------------------------------------------\n",
    "\n",
    "# Install required dependencies\n",
    "# Ensure the following packages are installed via terminal or uncomment to install directly in the script:\n",
    "# !pip install langchain-ollama langchain-community chromadb pypdf\n",
    "\n",
    "from langchain.document_loaders import PyPDFLoader\n",
    "from langchain.text_splitter import RecursiveCharacterTextSplitter\n",
    "from langchain.embeddings.ollama import OllamaEmbeddings\n",
    "from langchain.vectorstores import Chroma\n",
    "from langchain.chains import RetrievalQA\n",
    "from langchain import PromptTemplate\n",
    "from langchain_ollama import ChatOllama\n",
    "from langchain_core.documents import Document\n",
    "from langchain_core.runnables import RunnablePassthrough, RunnableParallel\n",
    "from langchain_core.output_parsers import StrOutputParser\n",
    "from langchain import hub\n",
    "\n",
    "# Step 1: Load and Process the EU AI Act PDF\n",
    "# Description: Load the PDF and prepare the text for processing.\n",
    "pdf_path = \"eu_ai_act.pdf\"  # Replace with the actual file path\n",
    "loader = PyPDFLoader(pdf_path)\n",
    "documents = loader.load()\n",
    "\n",
    "# Step 2: Split the Text into Manageable Chunks\n",
    "# Description: Use RecursiveCharacterTextSplitter to chunk text into smaller sections for analysis.\n",
    "splitter = RecursiveCharacterTextSplitter(chunk_size=800, chunk_overlap=100)\n",
    "split_docs = splitter.split_documents(documents)\n",
    "print(f\"Number of chunks created: {len(split_docs)}\")\n",
    "\n",
    "# Step 3: Generate Embeddings with Ollama\n",
    "# Description: Use the `OllamaEmbeddings` model to generate vector embeddings for the chunks.\n",
    "embeddings = OllamaEmbeddings(model=\"llama3\")\n",
    "\n",
    "# Step 4: Store Embeddings in Chroma Vector Database\n",
    "# Description: Index the document embeddings using Chroma for efficient retrieval.\n",
    "vectorstore = Chroma.from_documents(split_docs, embeddings)\n",
    "print(\"Embeddings stored in Chroma vector database.\")\n",
    "\n",
    "# Step 5: Setup Retriever\n",
    "# Description: Configure the retriever for similarity-based search with a score threshold.\n",
    "retriever = vectorstore.as_retriever(search_type=\"similarity_score_threshold\",\n",
    "                                     search_kwargs={\"score_threshold\": 0.75})\n",
    "\n",
    "retriever = vectorstore.as_retriever()\n",
    "\n",
    "\n",
    "# Step 6: Initialize LLM with ChatOllama\n",
    "# Description: Configure the language model with desired response variability.\n",
    "llm = ChatOllama(\n",
    "    model=\"llama3\",\n",
    "    temperature=0  # Lower temperature for deterministic responses\n",
    ")\n",
    "\n",
    "# Step 9: Advanced Retrieval with RAG Chain\n",
    "# Description: Configure a Retrieval-Augmented Generation (RAG) chain for improved retrieval and LLM processing.\n",
    "def format_docs(docs):\n",
    "    return \"\\n\\n\".join(doc.page_content for doc in docs)\n",
    "\n",
    "rag_chain = (\n",
    "    {\"context\": retriever | format_docs, \"question\": RunnablePassthrough()}\n",
    "    | hub.pull(\"rlm/rag-prompt\")\n",
    "    | llm\n",
    "    | StrOutputParser()\n",
    ")\n",
    "\n",
    "# Example Query with RAG Chain\n",
    "rag_response = rag_chain.invoke(\"According to the EU AI Act, what transparency obligations must providers of high-risk AI systems comply with, and how do these differ from obligations for general-purpose AI systems?\")\n",
    "\n",
    "print(\"\\n--- RAG Chain Response ---\")\n",
    "print(rag_response)\n",
    "\n",
    "#Adjusting the RAG to retrive sources\n",
    "from langchain_core.runnables import RunnableParallel\n",
    "\n",
    "rag_chain_from_docs = (\n",
    "    RunnablePassthrough.assign(context=(lambda x: format_docs(x[\"context\"])))\n",
    "    | hub.pull(\"rlm/rag-prompt\")\n",
    "    | llm\n",
    "    | StrOutputParser()\n",
    ")\n",
    "\n",
    "rag_chain_with_source = RunnableParallel(\n",
    "    {\"context\": retriever, \"question\": RunnablePassthrough()}\n",
    ").assign(answer=rag_chain_from_docs)\n",
    "\n",
    "rag_response = rag_chain_with_source.invoke(\"According to the EU AI Act, what transparency obligations must providers of high-risk AI systems comply with, and how do these differ from obligations for general-purpose AI systems?\")\n",
    "\n",
    "\n",
    "print(\"\\n--- RAG Chain Response with Sources ---\")\n",
    "print(rag_response)\n"
   ]
  },
  {
   "cell_type": "code",
   "execution_count": null,
   "id": "6d99c4c2-bd61-4b1e-9343-e8c9d1a9be17",
   "metadata": {},
   "outputs": [],
   "source": [
    "# Step 10: Adding New Documents to the Index\n",
    "# Description: Dynamically add new documents to the existing vectorstore.\n",
    "new_docs = [\n",
    "    Document(page_content=\"Solar panels improve energy independence.\",\n",
    "             metadata={\"source\": \"Report_C\", \"author\": \"EnergyWorld\", \"date\": \"2023-06-20\"})\n",
    "]\n",
    "\n",
    "vectorstore.add_documents(new_docs)\n",
    "retriever = vectorstore.as_retriever()\n",
    "\n",
    "# Query with Updated Vectorstore\n",
    "updated_query = \"Explain the role of solar panels in sustainability.\"\n",
    "relevant_docs = retriever.get_relevant_documents(updated_query)\n",
    "print(\"\\n--- Updated Query Results ---\")\n",
    "for doc in relevant_docs:\n",
    "    print(doc.page_content)\n"
   ]
  }
 ],
 "metadata": {
  "kernelspec": {
   "display_name": "Python 3 (ipykernel)",
   "language": "python",
   "name": "python3"
  },
  "language_info": {
   "codemirror_mode": {
    "name": "ipython",
    "version": 3
   },
   "file_extension": ".py",
   "mimetype": "text/x-python",
   "name": "python",
   "nbconvert_exporter": "python",
   "pygments_lexer": "ipython3",
   "version": "3.9.12"
  }
 },
 "nbformat": 4,
 "nbformat_minor": 5
}
