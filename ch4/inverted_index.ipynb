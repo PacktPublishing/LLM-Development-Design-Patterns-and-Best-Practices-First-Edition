{
 "cells": [
  {
   "cell_type": "code",
   "execution_count": 1,
   "id": "66d81606-13a2-4167-93a2-52f9ce9d817c",
   "metadata": {},
   "outputs": [
    {
     "name": "stdout",
     "output_type": "stream",
     "text": [
      "Query: europe revenue\n",
      "Candidate documents: {1}\n"
     ]
    }
   ],
   "source": [
    "# Example: Building a simple inverted index and querying it\n",
    "\n",
    "documents = {\n",
    "    1: \"annual revenue growth in europe\",\n",
    "    2: \"europe sales stable last quarter\",\n",
    "    3: \"quarterly report on growth and revenue\"\n",
    "}\n",
    "\n",
    "def tokenize(text):\n",
    "    return text.lower().split()\n",
    "\n",
    "# Build inverted index: term -> sorted list of doc_ids\n",
    "inverted_index = {}\n",
    "for doc_id, text in documents.items():\n",
    "    terms = tokenize(text)\n",
    "    for term in terms:\n",
    "        if term not in inverted_index:\n",
    "            inverted_index[term] = []\n",
    "        inverted_index[term].append(doc_id)\n",
    "\n",
    "# Querying the inverted index: a simple AND query\n",
    "query = \"europe revenue\"\n",
    "query_terms = tokenize(query)\n",
    "\n",
    "# Get postings lists for each term\n",
    "posting_lists = [set(inverted_index.get(term, [])) for term in query_terms if term in inverted_index]\n",
    "\n",
    "if posting_lists:\n",
    "    candidate_docs = set.intersection(*posting_lists)\n",
    "else:\n",
    "    candidate_docs = set()\n",
    "\n",
    "print(\"Query:\", query)\n",
    "print(\"Candidate documents:\", candidate_docs)  # Expected: doc_id 1 is a strong candidate\n"
   ]
  },
  {
   "cell_type": "code",
   "execution_count": null,
   "id": "07e54ee4-74c1-45d4-9f01-f784cde0f0fc",
   "metadata": {},
   "outputs": [],
   "source": []
  }
 ],
 "metadata": {
  "kernelspec": {
   "display_name": "Python 3 (ipykernel)",
   "language": "python",
   "name": "python3"
  },
  "language_info": {
   "codemirror_mode": {
    "name": "ipython",
    "version": 3
   },
   "file_extension": ".py",
   "mimetype": "text/x-python",
   "name": "python",
   "nbconvert_exporter": "python",
   "pygments_lexer": "ipython3",
   "version": "3.9.12"
  }
 },
 "nbformat": 4,
 "nbformat_minor": 5
}
