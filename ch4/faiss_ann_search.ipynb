{
 "cells": [
  {
   "cell_type": "code",
   "execution_count": 1,
   "id": "d2c6cd87-245e-420e-9a66-71f2320264df",
   "metadata": {},
   "outputs": [
    {
     "name": "stdout",
     "output_type": "stream",
     "text": [
      "Query Vector:\n",
      " [[0.86310345 0.6232981  0.33089802 0.06355835 0.31098232 0.32518333\n",
      "  0.72960615 0.63755745]]\n",
      "Indices of nearest neighbors: [[2 3 7]]\n",
      "Distances: [[0.7740041 0.8021247 1.0303653]]\n"
     ]
    }
   ],
   "source": [
    "# Example: Using FAISS for ANN search\n",
    "# Make sure to have FAISS installed: !pip install faiss-cpu\n",
    "\n",
    "import numpy as np\n",
    "import faiss\n",
    "\n",
    "# Create a random dataset of embeddings\n",
    "np.random.seed(42)\n",
    "dimension = 8\n",
    "num_docs = 10\n",
    "data = np.random.random((num_docs, dimension)).astype('float32')\n",
    "\n",
    "# Build a FAISS index (exact L2 index for demonstration)\n",
    "index = faiss.IndexFlatL2(dimension)\n",
    "index.add(data)\n",
    "\n",
    "# Query vector\n",
    "query_vec = np.random.random((1, dimension)).astype('float32')\n",
    "\n",
    "# Perform ANN search: find top 3 nearest neighbors\n",
    "k = 3\n",
    "distances, indices = index.search(query_vec, k)\n",
    "\n",
    "print(\"Query Vector:\\n\", query_vec)\n",
    "print(\"Indices of nearest neighbors:\", indices)\n",
    "print(\"Distances:\", distances)"
   ]
  },
  {
   "cell_type": "code",
   "execution_count": null,
   "id": "b23efb23-507b-4ed4-844e-d3b5f7773f91",
   "metadata": {},
   "outputs": [],
   "source": []
  }
 ],
 "metadata": {
  "kernelspec": {
   "display_name": "Python 3 (ipykernel)",
   "language": "python",
   "name": "python3"
  },
  "language_info": {
   "codemirror_mode": {
    "name": "ipython",
    "version": 3
   },
   "file_extension": ".py",
   "mimetype": "text/x-python",
   "name": "python",
   "nbconvert_exporter": "python",
   "pygments_lexer": "ipython3",
   "version": "3.9.12"
  }
 },
 "nbformat": 4,
 "nbformat_minor": 5
}
