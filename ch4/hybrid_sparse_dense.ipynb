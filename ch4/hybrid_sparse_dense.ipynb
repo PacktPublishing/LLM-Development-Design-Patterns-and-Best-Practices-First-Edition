{
 "cells": [
  {
   "cell_type": "code",
   "execution_count": 1,
   "id": "c4842b9a-8a38-4c67-a6cb-bb6118a13092",
   "metadata": {},
   "outputs": [
    {
     "name": "stdout",
     "output_type": "stream",
     "text": [
      "Query: european quarterly revenue\n",
      "Sparse Scores: [0.07075497 0.         0.54872484]\n",
      "Dense Scores: [0.7896244 0.6044986 0.6067592]\n",
      "Combined Scores: [0.86037936 0.60449862 1.15548403]\n",
      "\n",
      "Ranked Documents by combined score:\n",
      "Doc 2: quarterly report on growth and revenue\n",
      "Doc 0: annual revenue growth in europe\n",
      "Doc 1: europe sales stable last quarter\n"
     ]
    }
   ],
   "source": [
    "# Example: Combining sparse and dense retrieval results\n",
    "# Install required libraries if needed\n",
    "# !pip install rank_bm25 sentence-transformers\n",
    "\n",
    "from rank_bm25 import BM25Okapi\n",
    "from sentence_transformers import SentenceTransformer, util\n",
    "import numpy as np\n",
    "\n",
    "corpus = [\n",
    "    \"annual revenue growth in europe\",\n",
    "    \"europe sales stable last quarter\",\n",
    "    \"quarterly report on growth and revenue\"\n",
    "]\n",
    "\n",
    "# Sparse retrieval with BM25\n",
    "tokenized_corpus = [doc.lower().split() for doc in corpus]\n",
    "bm25 = BM25Okapi(tokenized_corpus)\n",
    "\n",
    "# Dense retrieval with sentence-transformers\n",
    "model = SentenceTransformer('all-MiniLM-L6-v2')\n",
    "doc_embeddings = model.encode(corpus, convert_to_tensor=True)\n",
    "\n",
    "query = \"european quarterly revenue\"\n",
    "query_embedding = model.encode(query, convert_to_tensor=True)\n",
    "\n",
    "# Dense retrieval scores\n",
    "dense_scores = util.cos_sim(query_embedding, doc_embeddings)[0].cpu().numpy()\n",
    "\n",
    "# Sparse retrieval scores\n",
    "sparse_scores = bm25.get_scores(query.lower().split())\n",
    "\n",
    "# Combine scores (simple linear combination)\n",
    "combined_scores = dense_scores + sparse_scores\n",
    "\n",
    "# Sort documents by combined score\n",
    "ranked_indices = np.argsort(-combined_scores)  # descending order\n",
    "\n",
    "print(\"Query:\", query)\n",
    "print(\"Sparse Scores:\", sparse_scores)\n",
    "print(\"Dense Scores:\", dense_scores)\n",
    "print(\"Combined Scores:\", combined_scores)\n",
    "print(\"\\nRanked Documents by combined score:\")\n",
    "for idx in ranked_indices:\n",
    "    print(f\"Doc {idx}: {corpus[idx]}\")\n"
   ]
  },
  {
   "cell_type": "code",
   "execution_count": null,
   "id": "1d82b8f7-0aab-48ce-96a8-255ecf9ed932",
   "metadata": {},
   "outputs": [],
   "source": []
  }
 ],
 "metadata": {
  "kernelspec": {
   "display_name": "Python 3 (ipykernel)",
   "language": "python",
   "name": "python3"
  },
  "language_info": {
   "codemirror_mode": {
    "name": "ipython",
    "version": 3
   },
   "file_extension": ".py",
   "mimetype": "text/x-python",
   "name": "python",
   "nbconvert_exporter": "python",
   "pygments_lexer": "ipython3",
   "version": "3.9.12"
  }
 },
 "nbformat": 4,
 "nbformat_minor": 5
}
