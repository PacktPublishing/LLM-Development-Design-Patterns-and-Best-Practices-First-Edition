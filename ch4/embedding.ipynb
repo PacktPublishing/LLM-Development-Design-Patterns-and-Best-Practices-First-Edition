{
 "cells": [
  {
   "cell_type": "code",
   "execution_count": 4,
   "id": "3331547d-6c91-4dd5-9906-e19add61713e",
   "metadata": {},
   "outputs": [
    {
     "name": "stdout",
     "output_type": "stream",
     "text": [
      "Similarity with sentence 2: 0.5113641619682312\n",
      "Similarity with sentence 3: 0.0436665304005146\n"
     ]
    }
   ],
   "source": [
    "from sentence_transformers import SentenceTransformer, util\n",
    "\n",
    "# Load a pre-trained embedding model\n",
    "model = SentenceTransformer('all-MiniLM-L6-v2')\n",
    "\n",
    "# Define some example sentences\n",
    "sentences = [\n",
    "    \"The car is parked in the garage.\",\n",
    "    \"A vehicle is inside the building where cars are kept.\",\n",
    "    \"The weather is sunny and bright today.\"\n",
    "]\n",
    "\n",
    "# Encode the sentences into embeddings\n",
    "embeddings = model.encode(sentences, convert_to_tensor=True)\n",
    "\n",
    "# Compute cosine similarities between the first sentence and the others\n",
    "similarities = util.cos_sim(embeddings[0], embeddings[1:])\n",
    "\n",
    "sim_with_sentence2 = similarities[0,0].item()\n",
    "sim_with_sentence3 = similarities[0,1].item()\n",
    "\n",
    "print(\"Similarity with sentence 2:\", sim_with_sentence2)\n",
    "print(\"Similarity with sentence 3:\", sim_with_sentence3)\n"
   ]
  },
  {
   "cell_type": "code",
   "execution_count": null,
   "id": "db89e6ca-bb59-4457-bfa4-f040aaf7131c",
   "metadata": {},
   "outputs": [],
   "source": []
  }
 ],
 "metadata": {
  "kernelspec": {
   "display_name": "Python 3 (ipykernel)",
   "language": "python",
   "name": "python3"
  },
  "language_info": {
   "codemirror_mode": {
    "name": "ipython",
    "version": 3
   },
   "file_extension": ".py",
   "mimetype": "text/x-python",
   "name": "python",
   "nbconvert_exporter": "python",
   "pygments_lexer": "ipython3",
   "version": "3.13.0"
  }
 },
 "nbformat": 4,
 "nbformat_minor": 5
}
