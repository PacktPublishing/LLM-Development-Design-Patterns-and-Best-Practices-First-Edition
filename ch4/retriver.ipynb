{
 "cells": [
  {
   "cell_type": "code",
   "execution_count": 6,
   "id": "afce16f6-49e3-4502-a3c3-5330ee8cb33f",
   "metadata": {},
   "outputs": [],
   "source": [
    "# !pip install langchain-community pypdf"
   ]
  },
  {
   "cell_type": "code",
   "execution_count": 7,
   "id": "f5a79f2f-cec0-4f07-b40a-808c711745f0",
   "metadata": {},
   "outputs": [],
   "source": [
    "!pip install -qU langchain-ollama"
   ]
  },
  {
   "cell_type": "code",
   "execution_count": 8,
   "id": "9369430c-4f48-4a9a-b0f1-a91c66e291bf",
   "metadata": {},
   "outputs": [],
   "source": [
    "from langchain.document_loaders import PyPDFLoader\n",
    "from langchain.text_splitter import RecursiveCharacterTextSplitter\n",
    "from langchain.embeddings import OllamaEmbeddings\n",
    "from langchain.vectorstores import FAISS\n",
    "from langchain.llms import OpenAI\n",
    "from langchain.chains import RetrievalQA"
   ]
  },
  {
   "cell_type": "code",
   "execution_count": 9,
   "id": "ef142fd9-bd42-4bdd-a678-32be733fbb59",
   "metadata": {},
   "outputs": [
    {
     "name": "stdout",
     "output_type": "stream",
     "text": [
      "Number of chunks: 270\n"
     ]
    }
   ],
   "source": [
    "# 1. Load the EU AI Act PDF\n",
    "loader = PyPDFLoader(\"eu_ai_act.pdf\")\n",
    "raw_docs = loader.load()\n",
    "\n",
    "# 2. Split the loaded documents into manageable chunks\n",
    "text_splitter = RecursiveCharacterTextSplitter(\n",
    "    chunk_size=1500,\n",
    "    chunk_overlap=200,\n",
    "    separators=[\"\\n\\n\",\".\"],\n",
    "    add_start_index=True\n",
    ")\n",
    "docs = text_splitter.split_documents(raw_docs)\n",
    "\n",
    "print(f\"Number of chunks: {len(docs)}\")\n"
   ]
  },
  {
   "cell_type": "code",
   "execution_count": 10,
   "id": "d1be038b-4c98-4a39-a4fa-9436eb4d29ac",
   "metadata": {},
   "outputs": [
    {
     "name": "stderr",
     "output_type": "stream",
     "text": [
      "/var/folders/tn/8kt3y16122x35fqf_c471sy00000gn/T/ipykernel_15418/1301002656.py:4: LangChainDeprecationWarning: The class `OllamaEmbeddings` was deprecated in LangChain 0.3.1 and will be removed in 1.0.0. An updated version of the class exists in the :class:`~langchain-ollama package and should be used instead. To use it run `pip install -U :class:`~langchain-ollama` and import as `from :class:`~langchain_ollama import OllamaEmbeddings``.\n",
      "  embeddings = OllamaEmbeddings(model=\"llama3\")\n"
     ]
    }
   ],
   "source": [
    "# 3. Use OllamaEmbeddings\n",
    "# Note: Ensure Ollama is running: `ollama serve`\n",
    "# and you have a model like `llama3` available locally.\n",
    "embeddings = OllamaEmbeddings(model=\"llama3\")"
   ]
  },
  {
   "cell_type": "code",
   "execution_count": 14,
   "id": "15f7e15b-adf4-4f77-8a9e-767a75061210",
   "metadata": {},
   "outputs": [
    {
     "name": "stdout",
     "output_type": "stream",
     "text": [
      "Requirement already satisfied: faiss-cpu in /Users/amenshawy/Documents/teaching/arabsera/AIEng-Labs/aieng-week4/lib/python3.9/site-packages (1.9.0.post1)\n",
      "Requirement already satisfied: numpy<3.0,>=1.25.0 in /Users/amenshawy/Documents/teaching/arabsera/AIEng-Labs/aieng-week4/lib/python3.9/site-packages (from faiss-cpu) (2.0.2)\n",
      "Requirement already satisfied: packaging in /Users/amenshawy/Documents/teaching/arabsera/AIEng-Labs/aieng-week4/lib/python3.9/site-packages (from faiss-cpu) (24.1)\n"
     ]
    }
   ],
   "source": [
    "!pip install faiss-cpu"
   ]
  },
  {
   "cell_type": "code",
   "execution_count": 21,
   "id": "492674cf-9ae7-4ebd-82b4-95c99efd9bf4",
   "metadata": {},
   "outputs": [
    {
     "name": "stdout",
     "output_type": "stream",
     "text": [
      "Collecting numpy==1.26.4\n",
      "  Using cached numpy-1.26.4-cp39-cp39-macosx_10_9_x86_64.whl.metadata (61 kB)\n",
      "Using cached numpy-1.26.4-cp39-cp39-macosx_10_9_x86_64.whl (20.6 MB)\n",
      "Installing collected packages: numpy\n",
      "\u001b[31mERROR: pip's dependency resolver does not currently take into account all the packages that are installed. This behaviour is the source of the following dependency conflicts.\n",
      "mlxtend 0.23.3 requires scikit-learn>=1.3.1, but you have scikit-learn 1.2.2 which is incompatible.\u001b[0m\u001b[31m\n",
      "\u001b[0mSuccessfully installed numpy-1.26.4\n"
     ]
    }
   ],
   "source": [
    "!pip install numpy==1.26.4"
   ]
  },
  {
   "cell_type": "code",
   "execution_count": 22,
   "id": "b8cdd75b-9570-4950-b7c9-34722a0442c5",
   "metadata": {},
   "outputs": [
    {
     "name": "stdout",
     "output_type": "stream",
     "text": [
      "Generated vectors of length 4096\n",
      "\n",
      "[-1.6067274808883667, 0.021475689485669136, 0.6372528076171875, 0.8379046320915222, -1.8185207843780518, -1.669992446899414, -6.153677940368652, -0.22479216754436493, -4.192078113555908, -0.2850227653980255]\n"
     ]
    }
   ],
   "source": [
    "vector_1 = embeddings.embed_query(docs[0].page_content)\n",
    "vector_2 = embeddings.embed_query(docs[1].page_content)\n",
    "\n",
    "assert len(vector_1) == len(vector_2)\n",
    "print(f\"Generated vectors of length {len(vector_1)}\\n\")\n",
    "print(vector_1[:10])"
   ]
  },
  {
   "cell_type": "code",
   "execution_count": 24,
   "id": "36422df4-9777-4afd-8a55-f0304c532d33",
   "metadata": {},
   "outputs": [],
   "source": [
    "!pip install -qU langchain-community"
   ]
  },
  {
   "cell_type": "code",
   "execution_count": 26,
   "id": "c391d75b-28ca-43fd-985c-fb92f36c7a88",
   "metadata": {},
   "outputs": [],
   "source": [
    "from langchain_core.vectorstores import InMemoryVectorStore\n",
    "\n",
    "vector_store = InMemoryVectorStore(embeddings)"
   ]
  },
  {
   "cell_type": "code",
   "execution_count": 28,
   "id": "b406721d-2c34-4c86-a32c-50f85a5b13be",
   "metadata": {},
   "outputs": [],
   "source": [
    "ids = vector_store.add_documents(documents=docs)"
   ]
  },
  {
   "cell_type": "code",
   "execution_count": 33,
   "id": "fab1ad5e-7095-460e-b72c-a415c2bb3ed1",
   "metadata": {},
   "outputs": [
    {
     "name": "stdout",
     "output_type": "stream",
     "text": [
      "page_content='. Where the compliance of the AI systems with \n",
      "the requirements set out in Chapter 2 of this Title has been demonstrated following \n",
      "that conformity assessm ent, the providers shall draw up an EU declaration of \n",
      "conformity in accordance with Article 48 and affix the CE marking of conformity in \n",
      "accordance with Article 49.  \n",
      "2. For high-risk AI systems referred to in point 5(b) of Annex III that are placed on the \n",
      "market or put into service by providers that are credit institutions regulated by \n",
      "Directive 2013/36/EU, the conformity assessment  shall be carried out as part of the \n",
      "procedure referred to in Articles 97 to101 of that Directive. \n",
      "Article 20 \n",
      "Automatically generated logs \n",
      "1. Providers of high -risk AI systems shall keep the logs automatically generated by \n",
      "their high-risk AI systems, to the extent such logs are under their control by virtue of \n",
      "a contractual arrangement with the user or otherwise by law. The logs s hall be kept \n",
      "for a period that is appropriate in the light of the intended purpose of high -risk AI \n",
      "system and applicable legal obligations under Union or national law. \n",
      "2. Providers that are credit institutions regulated by Directive 2013/36/EU shall \n",
      "maintain the logs automatically generated by their high-risk AI systems as part of the \n",
      "documentation under Articles 74 of that Directive.' metadata={'source': 'eu_ai_act.pdf', 'page': 54, 'start_index': 1434}\n"
     ]
    }
   ],
   "source": [
    "results = vector_store.similarity_search(\n",
    "    \"According to the EU AI Act, what transparency obligations must providers of high-risk AI systems comply with, and how do these differ from obligations for general-purpose AI systems?\"\n",
    ")\n",
    "\n",
    "print(results[0])"
   ]
  },
  {
   "cell_type": "code",
   "execution_count": 32,
   "id": "a42228cb-358d-4edf-949f-f4dd97b2c16a",
   "metadata": {},
   "outputs": [
    {
     "name": "stdout",
     "output_type": "stream",
     "text": [
      "page_content='. That guida nce shall be issued 12 months after the entry into force of \n",
      "this Regulation, at the latest. \n",
      "3. For high-risk AI systems referred to in point 5(b) of Annex III which are placed on \n",
      "the market or put into service by providers that are credit institutions regu lated by \n",
      "Directive 2013/36/EU and for high -risk AI systems which are safety components of \n",
      "devices, or are themselves devices, covered by Regulation (EU) 2017/745 and \n",
      "Regulation (EU) 2017/746, the notification of serious incidents or malfunctioning \n",
      "shall be limited to those that that constitute a breach of obligations under Union law \n",
      "intended to protect fundamental rights.' metadata={'source': 'eu_ai_act.pdf', 'page': 75, 'start_index': 2430}\n"
     ]
    }
   ],
   "source": [
    "results = await vector_store.asimilarity_search(\"According to the EU AI Act, what transparency obligations must providers of high-risk AI systems comply with, and how do these differ from obligations for general-purpose AI systems?\")\n",
    "\n",
    "print(results[0])"
   ]
  },
  {
   "cell_type": "code",
   "execution_count": 35,
   "id": "f9568a7b-82a2-4be5-82ba-d8d36d97a2fd",
   "metadata": {},
   "outputs": [
    {
     "data": {
      "text/plain": [
       "[[Document(id='6816a522-768a-4763-a69f-ba5ed3127113', metadata={'source': 'eu_ai_act.pdf', 'page': 85, 'start_index': 1014}, page_content='.” \\nArticle 78 \\nAmendment to Directive 2014/90/EU \\nIn Article 8 of Directive 2014/90/EU, the following paragraph is added: \\n“4. For Artificial Intelligence systems  which are safety components in the meaning of \\nRegulation (EU) YYY/XX [on Artificial Intelligence]  of the European Parliament and of the \\nCouncil*, when carrying out its activities pursuant to paragraph 1 and when adopting \\ntechnical specifications and testing standards in accordance with paragraphs 2 and 3, the \\nCommission shall take into account the requirements set out in Title III, Chapter 2 of that \\nRegulation. \\n__________ \\n* Regulation (EU) YYY/XX [on Artificial Intelligence] (OJ …).”. \\nArticle 79 \\nAmendment to Directive (EU) 2016/797 \\nIn Article 5 of Directive (EU) 2016/797, the following paragraph is added: \\n“12. When adopting delegated acts pursuant to paragraph 1 and implementing acts pursuant to \\nparagraph 11 concerning Artificial Intelligence systems  which are safety components in the \\nmeaning of Regulation (EU) YYY/XX [on Artificial Intelligence]  of the European Parliament \\nand of the Council*, the requirements set out in Title III, Chapter 2 of that Regulation shall be \\ntaken into account. \\n__________ \\n* Regulation (EU) YYY/XX [on Artificial Intelligence] (OJ …).”.')],\n",
       " [Document(id='6816a522-768a-4763-a69f-ba5ed3127113', metadata={'source': 'eu_ai_act.pdf', 'page': 85, 'start_index': 1014}, page_content='.” \\nArticle 78 \\nAmendment to Directive 2014/90/EU \\nIn Article 8 of Directive 2014/90/EU, the following paragraph is added: \\n“4. For Artificial Intelligence systems  which are safety components in the meaning of \\nRegulation (EU) YYY/XX [on Artificial Intelligence]  of the European Parliament and of the \\nCouncil*, when carrying out its activities pursuant to paragraph 1 and when adopting \\ntechnical specifications and testing standards in accordance with paragraphs 2 and 3, the \\nCommission shall take into account the requirements set out in Title III, Chapter 2 of that \\nRegulation. \\n__________ \\n* Regulation (EU) YYY/XX [on Artificial Intelligence] (OJ …).”. \\nArticle 79 \\nAmendment to Directive (EU) 2016/797 \\nIn Article 5 of Directive (EU) 2016/797, the following paragraph is added: \\n“12. When adopting delegated acts pursuant to paragraph 1 and implementing acts pursuant to \\nparagraph 11 concerning Artificial Intelligence systems  which are safety components in the \\nmeaning of Regulation (EU) YYY/XX [on Artificial Intelligence]  of the European Parliament \\nand of the Council*, the requirements set out in Title III, Chapter 2 of that Regulation shall be \\ntaken into account. \\n__________ \\n* Regulation (EU) YYY/XX [on Artificial Intelligence] (OJ …).”.')]]"
      ]
     },
     "execution_count": 35,
     "metadata": {},
     "output_type": "execute_result"
    }
   ],
   "source": [
    "from typing import List\n",
    "\n",
    "from langchain_core.documents import Document\n",
    "from langchain_core.runnables import chain\n",
    "\n",
    "\n",
    "@chain\n",
    "def retriever(query: str) -> List[Document]:\n",
    "    return vector_store.similarity_search(query, k=1)\n",
    "\n",
    "\n",
    "retriever.batch(\n",
    "    [\n",
    "        \"How many distribution centers does Nike have in the US?\",\n",
    "        \"When was Nike incorporated?\",\n",
    "    ],\n",
    ")"
   ]
  },
  {
   "cell_type": "code",
   "execution_count": 2,
   "id": "02189f44-9a9d-4e7a-a972-d92923bd14f1",
   "metadata": {},
   "outputs": [
    {
     "name": "stdout",
     "output_type": "stream",
     "text": [
      "Number of chunks created from PDF: 270\n"
     ]
    },
    {
     "name": "stderr",
     "output_type": "stream",
     "text": [
      "/var/folders/tn/8kt3y16122x35fqf_c471sy00000gn/T/ipykernel_56544/2939875256.py:35: LangChainDeprecationWarning: The class `OllamaEmbeddings` was deprecated in LangChain 0.3.1 and will be removed in 1.0.0. An updated version of the class exists in the :class:`~langchain-ollama package and should be used instead. To use it run `pip install -U :class:`~langchain-ollama` and import as `from :class:`~langchain_ollama import OllamaEmbeddings``.\n",
      "  embeddings = OllamaEmbeddings(model=\"llama3\")\n"
     ]
    },
    {
     "name": "stdout",
     "output_type": "stream",
     "text": [
      "Documents added to vector store. Total IDs: 270\n",
      "\n",
      "--- Top Matching Document ---\n",
      ". That guida nce shall be issued 12 months after the entry into force of \n",
      "this Regulation, at the latest. \n",
      "3. For high-risk AI systems referred to in point 5(b) of Annex III which are placed on \n",
      "the market or put into service by providers that are credit institutions regu lated by \n",
      "Directive 2013/36/EU and for high -risk AI systems which are safety components of \n",
      "devices, or are themselves devices, covered by Regulation (EU) 2017/745 and \n",
      "Regulation (EU) 2017/746, the notification of serious incidents or malfunctioning \n",
      "shall be limited to those that that constitute a breach of obligations under Union law \n",
      "intended to protect fundamental rights.\n",
      "\n",
      "--- Batch Query Results ---\n",
      "Query 1: What are the transparency obligations in the EU AI Act?\n",
      "Answer: . That guida nce shall be issued 12 months after the entry into force of \n",
      "this Regulation, at the latest. \n",
      "3. For high-risk AI systems referred to in point 5(b) of Annex III which are placed on \n",
      "the market or put into service by providers that are credit institutions regu lated by \n",
      "Directive 2013/36/EU and for high -risk AI systems which are safety components of \n",
      "devices, or are themselves devices, covered by Regulation (EU) 2017/745 and \n",
      "Regulation (EU) 2017/746, the notification of serious incidents or malfunctioning \n",
      "shall be limited to those that that constitute a breach of obligations under Union law \n",
      "intended to protect fundamental rights.\n",
      "-----------\n",
      "Query 2: How does the EU AI Act define high-risk AI systems?\n",
      "Answer: . That guida nce shall be issued 12 months after the entry into force of \n",
      "this Regulation, at the latest. \n",
      "3. For high-risk AI systems referred to in point 5(b) of Annex III which are placed on \n",
      "the market or put into service by providers that are credit institutions regu lated by \n",
      "Directive 2013/36/EU and for high -risk AI systems which are safety components of \n",
      "devices, or are themselves devices, covered by Regulation (EU) 2017/745 and \n",
      "Regulation (EU) 2017/746, the notification of serious incidents or malfunctioning \n",
      "shall be limited to those that that constitute a breach of obligations under Union law \n",
      "intended to protect fundamental rights.\n",
      "-----------\n"
     ]
    }
   ],
   "source": [
    "# Step-by-Step Explanation and Script for EU AI Act PDF Analysis\n",
    "\n",
    "# Install required dependencies\n",
    "# Run these commands in your terminal or uncomment to install directly via the script:\n",
    "# !pip install -qU langchain-ollama langchain-community pypdf faiss-cpu numpy\n",
    "\n",
    "from langchain.document_loaders import PyPDFLoader\n",
    "from langchain.text_splitter import RecursiveCharacterTextSplitter\n",
    "from langchain.embeddings import OllamaEmbeddings\n",
    "from langchain_core.vectorstores import InMemoryVectorStore\n",
    "from langchain_core.runnables import chain\n",
    "from typing import List\n",
    "from langchain_core.documents import Document\n",
    "\n",
    "# Step 1: Load the EU AI Act PDF\n",
    "# Use PyPDFLoader to load the PDF into raw document objects.\n",
    "pdf_path = \"eu_ai_act.pdf\"  # Replace with the path to your PDF file\n",
    "loader = PyPDFLoader(pdf_path)\n",
    "raw_docs = loader.load()\n",
    "\n",
    "# Step 2: Split the loaded documents into manageable chunks\n",
    "# Use RecursiveCharacterTextSplitter to divide the content into smaller sections for efficient processing.\n",
    "text_splitter = RecursiveCharacterTextSplitter(\n",
    "    chunk_size=1500,\n",
    "    chunk_overlap=200,\n",
    "    separators=[\"\\n\\n\", \".\"],\n",
    "    add_start_index=True\n",
    ")\n",
    "docs = text_splitter.split_documents(raw_docs)\n",
    "print(f\"Number of chunks created from PDF: {len(docs)}\")\n",
    "\n",
    "# Step 3: Use OllamaEmbeddings\n",
    "# Note: Ensure Ollama is running (`ollama serve`) and a model like `llama3` is available locally.\n",
    "# Generate embeddings using the Ollama embedding model.\n",
    "embeddings = OllamaEmbeddings(model=\"llama3\")\n",
    "\n",
    "# Step 4: Initialize InMemoryVectorStore\n",
    "# Store and manage the embeddings in an in-memory vector store.\n",
    "vector_store = InMemoryVectorStore(embeddings)\n",
    "ids = vector_store.add_documents(documents=docs)\n",
    "print(f\"Documents added to vector store. Total IDs: {len(ids)}\")\n",
    "\n",
    "# Step 5: Perform Similarity Search\n",
    "# Query the vector store to find the most relevant chunk(s) based on the given question.\n",
    "query = (\"According to the EU AI Act, what transparency obligations must providers of high-risk AI systems \"\n",
    "         \"comply with, and how do these differ from obligations for general-purpose AI systems?\")\n",
    "results = vector_store.similarity_search(query, k=1)  # Adjust `k` for more results\n",
    "\n",
    "print(\"\\n--- Top Matching Document ---\")\n",
    "print(results[0].page_content if results else \"No relevant document found.\")\n",
    "\n",
    "# Step 6: Define a retriever function for batch queries\n",
    "# Process multiple queries in one call to the retriever.\n",
    "@chain\n",
    "def retriever(query: str) -> List[Document]:\n",
    "    return vector_store.similarity_search(query, k=1)\n",
    "\n",
    "# Batch query example\n",
    "batch_queries = [\n",
    "    \"What are the transparency obligations in the EU AI Act?\",\n",
    "    \"How does the EU AI Act define high-risk AI systems?\"\n",
    "]\n",
    "batch_results = retriever.batch(batch_queries)\n",
    "print(\"\\n--- Batch Query Results ---\")\n",
    "for idx, result in enumerate(batch_results):\n",
    "    print(f\"Query {idx + 1}: {batch_queries[idx]}\")\n",
    "    print(f\"Answer: {result[0].page_content if result else 'No relevant document found.'}\")\n",
    "    print(\"-----------\")\n"
   ]
  },
  {
   "cell_type": "code",
   "execution_count": null,
   "id": "6a63ccc7-70e5-4d00-89bf-fc6bab6dd4bf",
   "metadata": {},
   "outputs": [],
   "source": []
  }
 ],
 "metadata": {
  "kernelspec": {
   "display_name": "Python 3 (ipykernel)",
   "language": "python",
   "name": "python3"
  },
  "language_info": {
   "codemirror_mode": {
    "name": "ipython",
    "version": 3
   },
   "file_extension": ".py",
   "mimetype": "text/x-python",
   "name": "python",
   "nbconvert_exporter": "python",
   "pygments_lexer": "ipython3",
   "version": "3.9.12"
  }
 },
 "nbformat": 4,
 "nbformat_minor": 5
}
