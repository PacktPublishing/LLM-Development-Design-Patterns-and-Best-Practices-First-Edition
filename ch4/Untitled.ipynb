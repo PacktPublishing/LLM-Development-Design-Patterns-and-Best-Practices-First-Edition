{
 "cells": [
  {
   "cell_type": "code",
   "execution_count": 1,
   "id": "bfbed3cb-1fa4-49a9-9405-cc789762a790",
   "metadata": {},
   "outputs": [
    {
     "name": "stdout",
     "output_type": "stream",
     "text": [
      "Query: european quarterly revenue\n",
      "Rank 1: annual revenue growth in europe (distance: 0.4208)\n",
      "Rank 2: quarterly report on growth and revenue (distance: 0.7865)\n"
     ]
    }
   ],
   "source": [
    "from sentence_transformers import SentenceTransformer\n",
    "import faiss\n",
    "import numpy as np\n",
    "\n",
    "corpus = [\n",
    "    \"annual revenue growth in europe\",\n",
    "    \"europe sales stable last quarter\",\n",
    "    \"quarterly report on growth and revenue\"\n",
    "]\n",
    "\n",
    "model = SentenceTransformer('all-MiniLM-L6-v2')\n",
    "doc_embeddings = model.encode(corpus, convert_to_tensor=False)\n",
    "\n",
    "# Convert to float32 for FAISS\n",
    "doc_embeddings = np.array(doc_embeddings, dtype='float32')\n",
    "\n",
    "dimension = doc_embeddings.shape[1]\n",
    "index = faiss.IndexFlatL2(dimension)\n",
    "index.add(doc_embeddings)\n",
    "\n",
    "query = \"european quarterly revenue\"\n",
    "query_embedding = model.encode([query], convert_to_tensor=False)\n",
    "query_embedding = np.array(query_embedding, dtype='float32')\n",
    "\n",
    "k = 2\n",
    "distances, indices = index.search(query_embedding, k)\n",
    "print(\"Query:\", query)\n",
    "for i, idx in enumerate(indices[0]):\n",
    "    print(f\"Rank {i+1}: {corpus[idx]} (distance: {distances[0][i]:.4f})\")"
   ]
  },
  {
   "cell_type": "code",
   "execution_count": null,
   "id": "d7491eb6-bcaa-4ba3-ac19-cde89d830ecc",
   "metadata": {},
   "outputs": [],
   "source": []
  }
 ],
 "metadata": {
  "kernelspec": {
   "display_name": "Python 3 (ipykernel)",
   "language": "python",
   "name": "python3"
  },
  "language_info": {
   "codemirror_mode": {
    "name": "ipython",
    "version": 3
   },
   "file_extension": ".py",
   "mimetype": "text/x-python",
   "name": "python",
   "nbconvert_exporter": "python",
   "pygments_lexer": "ipython3",
   "version": "3.13.0"
  }
 },
 "nbformat": 4,
 "nbformat_minor": 5
}
