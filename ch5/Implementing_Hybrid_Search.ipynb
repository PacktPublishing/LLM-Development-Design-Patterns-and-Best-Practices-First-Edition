{
  "nbformat": 4,
  "nbformat_minor": 0,
  "metadata": {
    "colab": {
      "provenance": [],
      "gpuType": "T4"
    },
    "kernelspec": {
      "name": "python3",
      "display_name": "Python 3"
    },
    "language_info": {
      "name": "python"
    },
    "accelerator": "GPU"
  },
  "cells": [
    {
      "cell_type": "markdown",
      "source": [
        "## Install Required Packages\n",
        "First, install the necessary packages. OpenAI's Python client library and any specific embedding-related library (like langchain) should be installed."
      ],
      "metadata": {
        "id": "T0zgnwxTQ137"
      }
    },
    {
      "cell_type": "code",
      "source": [
        "# ! pip install langchain lancedb openai\n",
        "# ! pip install langchain-community\n",
        "# !pip install requests pypdf\n",
        "# ! pip install PyPDF2\n",
        "# ! pip install rank_bm25\n",
        "# ! pip install tiktoken"
      ],
      "metadata": {
        "colab": {
          "base_uri": "https://localhost:8080/"
        },
        "id": "0_VZikdncSua",
        "outputId": "b2b6d488-939b-4107-9af7-dc7c203d144c"
      },
      "execution_count": 48,
      "outputs": [
        {
          "output_type": "stream",
          "name": "stdout",
          "text": [
            "Collecting tiktoken\n",
            "  Downloading tiktoken-0.7.0-cp310-cp310-manylinux_2_17_x86_64.manylinux2014_x86_64.whl (1.1 MB)\n",
            "\u001b[?25l     \u001b[90m━━━━━━━━━━━━━━━━━━━━━━━━━━━━━━━━━━━━━━━━\u001b[0m \u001b[32m0.0/1.1 MB\u001b[0m \u001b[31m?\u001b[0m eta \u001b[36m-:--:--\u001b[0m\r\u001b[2K     \u001b[91m━━━━━━━━━━━━━━━━━\u001b[0m\u001b[90m╺\u001b[0m\u001b[90m━━━━━━━━━━━━━━━━━━━━━━\u001b[0m \u001b[32m0.5/1.1 MB\u001b[0m \u001b[31m15.1 MB/s\u001b[0m eta \u001b[36m0:00:01\u001b[0m\r\u001b[2K     \u001b[90m━━━━━━━━━━━━━━━━━━━━━━━━━━━━━━━━━━━━━━━━\u001b[0m \u001b[32m1.1/1.1 MB\u001b[0m \u001b[31m22.6 MB/s\u001b[0m eta \u001b[36m0:00:00\u001b[0m\n",
            "\u001b[?25hRequirement already satisfied: regex>=2022.1.18 in /usr/local/lib/python3.10/dist-packages (from tiktoken) (2024.5.15)\n",
            "Requirement already satisfied: requests>=2.26.0 in /usr/local/lib/python3.10/dist-packages (from tiktoken) (2.31.0)\n",
            "Requirement already satisfied: charset-normalizer<4,>=2 in /usr/local/lib/python3.10/dist-packages (from requests>=2.26.0->tiktoken) (3.3.2)\n",
            "Requirement already satisfied: idna<4,>=2.5 in /usr/local/lib/python3.10/dist-packages (from requests>=2.26.0->tiktoken) (3.7)\n",
            "Requirement already satisfied: urllib3<3,>=1.21.1 in /usr/local/lib/python3.10/dist-packages (from requests>=2.26.0->tiktoken) (2.0.7)\n",
            "Requirement already satisfied: certifi>=2017.4.17 in /usr/local/lib/python3.10/dist-packages (from requests>=2.26.0->tiktoken) (2024.6.2)\n",
            "Installing collected packages: tiktoken\n",
            "Successfully installed tiktoken-0.7.0\n"
          ]
        }
      ]
    },
    {
      "cell_type": "markdown",
      "source": [
        " ## Set Up Your API Key\n",
        "In Google Colab, you can set your API key by directly assigning it in the notebook or using environment variables. For security, it's best practice to avoid hardcoding sensitive information in your code\n",
        "Set the API Key Using Environment Variables in Cola\n"
      ],
      "metadata": {
        "id": "ZTrniR7xQ7AS"
      }
    },
    {
      "cell_type": "code",
      "source": [
        "import openai\n",
        "from langchain.embeddings import OpenAIEmbeddings\n",
        "\n",
        "# Directly set your API key here\n",
        "openai.api_key = 'Your-api-key'"
      ],
      "metadata": {
        "id": "xH1MyrT1QgxK"
      },
      "execution_count": 50,
      "outputs": []
    },
    {
      "cell_type": "markdown",
      "source": [
        "## Access the Environment Variable in Your Code:\n"
      ],
      "metadata": {
        "id": "YXyRES0dRJBM"
      }
    },
    {
      "cell_type": "code",
      "source": [
        "from langchain.vectorstores import LanceDB\n",
        "import lancedb\n",
        "from langchain.retrievers import BM25Retriever, EnsembleRetriever\n",
        "from langchain.schema import Document\n",
        "from langchain.embeddings.openai import OpenAIEmbeddings\n",
        "from langchain.document_loaders import PyPDFLoader\n",
        "\n",
        "\n",
        "# Initialize embeddings for semantic search\n",
        "embedding = OpenAIEmbeddings()\n"
      ],
      "metadata": {
        "id": "8sZmXcm4fQYa"
      },
      "execution_count": 51,
      "outputs": []
    },
    {
      "cell_type": "markdown",
      "source": [
        "## Download the PDF\n",
        "Before we start let's download required pdfs."
      ],
      "metadata": {
        "id": "buwyoMhlSgRs"
      }
    },
    {
      "cell_type": "code",
      "source": [
        "import requests\n",
        "import time\n",
        "\n",
        "def download_pdf(url, save_path, retries=3):\n",
        "    attempt = 0\n",
        "    while attempt < retries:\n",
        "        try:\n",
        "            response = requests.get(url, stream=True)\n",
        "            response.raise_for_status()  # Check if the download was successful\n",
        "            with open(save_path, 'wb') as file:\n",
        "                for chunk in response.iter_content(chunk_size=8192):\n",
        "                    file.write(chunk)\n",
        "            print(f\"Downloaded PDF from {url} to {save_path}\")\n",
        "            return True\n",
        "        except requests.exceptions.RequestException as e:\n",
        "            attempt += 1\n",
        "            print(f\"Error downloading PDF (attempt {attempt} of {retries}): {e}\")\n",
        "            if attempt < retries:\n",
        "                time.sleep(5)  # Wait before retrying\n",
        "    return False\n",
        "\n",
        "# Example URL and file path\n",
        "pdf_url = \"https://pdf.usaid.gov/pdf_docs/PA00TBCT.pdf\"\n",
        "pdf_path = \"/content/Food_and_Nutrition.pdf\"\n",
        "\n",
        "# Download the PDF\n",
        "if not download_pdf(pdf_url, pdf_path):\n",
        "    raise Exception(\"Failed to download PDF after multiple attempts\")\n"
      ],
      "metadata": {
        "colab": {
          "base_uri": "https://localhost:8080/"
        },
        "id": "j3Fwp59eQb4U",
        "outputId": "dd32a4a5-6bc4-4d64-fd8b-fe8ebd888997"
      },
      "execution_count": 38,
      "outputs": [
        {
          "output_type": "stream",
          "name": "stdout",
          "text": [
            "Downloaded PDF from https://pdf.usaid.gov/pdf_docs/PA00TBCT.pdf to /content/Food_and_Nutrition.pdf\n"
          ]
        }
      ]
    },
    {
      "cell_type": "markdown",
      "source": [
        "## Load and Split the PDF\n",
        "Use PyPDFLoader to load and split the PDF into pages."
      ],
      "metadata": {
        "id": "sKqgpHNKSzIB"
      }
    },
    {
      "cell_type": "code",
      "source": [
        "from langchain.document_loaders import PyPDFLoader\n",
        "\n",
        "# Load documents\n",
        "loader = PyPDFLoader(\"Food_and_Nutrition.pdf\")\n",
        "pages = loader.load_and_split()\n"
      ],
      "metadata": {
        "id": "AAGetOkJSx2Y"
      },
      "execution_count": 43,
      "outputs": []
    },
    {
      "cell_type": "markdown",
      "source": [
        "## Initialize the BM25 Retriever\n",
        "Set up the BM25 retriever to fetch top results."
      ],
      "metadata": {
        "id": "Lx-OBvmEbFEH"
      }
    },
    {
      "cell_type": "code",
      "source": [
        "from langchain.retrievers import BM25Retriever\n",
        "\n",
        "# Initialize the BM25 retriever\n",
        "bm25_retriever = BM25Retriever.from_documents(pages)\n",
        "bm25_retriever.k = 2  # Retrieve top 2 results using BM25\n"
      ],
      "metadata": {
        "id": "ALbSOdbvS32V"
      },
      "execution_count": 46,
      "outputs": []
    },
    {
      "cell_type": "markdown",
      "source": [
        "## Create LanceDB Vector Store for Semantic Search\n",
        "Connect to LanceDB and create a table for storing embeddings."
      ],
      "metadata": {
        "id": "yJsw2kBTbVys"
      }
    },
    {
      "cell_type": "code",
      "source": [
        "import lancedb\n",
        "\n",
        "# Create lancedb vector store for semantic search\n",
        "db = lancedb.connect('/tmp/lancedb')\n",
        "table = db.create_table(\"pandas_docs\", data=[\n",
        "    {\"vector\": embedding.embed_query(\"Hello World\"), \"text\": \"Hello World\", \"id\": \"1\"}\n",
        "], mode=\"overwrite\")\n"
      ],
      "metadata": {
        "id": "SaaWRWr7bL7U"
      },
      "execution_count": null,
      "outputs": []
    },
    {
      "cell_type": "markdown",
      "source": [
        "## Initialize LanceDB Retriever\n",
        "Set up the LanceDB retriever for semantic search."
      ],
      "metadata": {
        "id": "CAfUn3Qhc6Az"
      }
    },
    {
      "cell_type": "code",
      "source": [
        "from langchain.vectorstores import LanceDB\n",
        "\n",
        "# Initialize LanceDB retriever\n",
        "docsearch = LanceDB.from_documents(pages, embedding, connection=table)\n",
        "retriever_lancedb = docsearch.as_retriever(search_kwargs={\"k\": 2})\n"
      ],
      "metadata": {
        "id": "--QcN4X-bsex"
      },
      "execution_count": null,
      "outputs": []
    },
    {
      "cell_type": "markdown",
      "source": [
        "## Initialize the Ensemble Retriever\n",
        "Combine the BM25 and LanceDB retrievers with specified weights."
      ],
      "metadata": {
        "id": "O_fOvcarc-XZ"
      }
    },
    {
      "cell_type": "code",
      "source": [
        "from langchain.retrievers import EnsembleRetriever\n",
        "\n",
        "# Initialize the ensemble retriever with weights\n",
        "ensemble_retriever = EnsembleRetriever(retrievers=[bm25_retriever, retriever_lancedb], weights=[0.4, 0.6])\n"
      ],
      "metadata": {
        "id": "pRM8w--Zc-4Q"
      },
      "execution_count": null,
      "outputs": []
    },
    {
      "cell_type": "markdown",
      "source": [
        "## Retrieve Relevant Documents\n",
        "Perform a query and retrieve relevant documents using the ensemble retriever."
      ],
      "metadata": {
        "id": "qxRL7lIZdGug"
      }
    },
    {
      "cell_type": "code",
      "source": [
        "# Example query\n",
        "query = \"Lorem ipsum dolor sit amet\"\n",
        "\n",
        "# Retrieve relevant documents\n",
        "docs = ensemble_retriever.get_relevant_documents(query)\n",
        "\n",
        "# Print retrieved documents\n",
        "for doc in docs:\n",
        "    print(doc.text)\n"
      ],
      "metadata": {
        "id": "Lrw-RWdIdHFQ"
      },
      "execution_count": null,
      "outputs": []
    },
    {
      "cell_type": "markdown",
      "source": [],
      "metadata": {
        "id": "uIveAFyNdVwE"
      }
    }
  ]
}