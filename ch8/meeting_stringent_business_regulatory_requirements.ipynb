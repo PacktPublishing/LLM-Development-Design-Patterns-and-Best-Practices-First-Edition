{
  "nbformat": 4,
  "nbformat_minor": 0,
  "metadata": {
    "colab": {
      "provenance": []
    },
    "kernelspec": {
      "name": "python3",
      "display_name": "Python 3"
    },
    "language_info": {
      "name": "python"
    }
  },
  "cells": [
    {
      "cell_type": "markdown",
      "source": [
        "### Compliance and Governance\n",
        "\n",
        "In the context of customer support, LLMs can use a RAG system to retrieve relevant data, ensuring that only anonymized, minimal customer information is used. This keeps the system compliant with data privacy regulations like GDPR and CCPA. Below is a simple compliance check that ensures that the data retrieved complies with these regulations."
      ],
      "metadata": {
        "id": "s9sMK7seZBkv"
      }
    },
    {
      "cell_type": "code",
      "execution_count": 1,
      "metadata": {
        "colab": {
          "base_uri": "https://localhost:8080/"
        },
        "id": "UU9O7vhnYxpm",
        "outputId": "b8577510-98a3-4664-f645-107c6733f859"
      },
      "outputs": [
        {
          "output_type": "stream",
          "name": "stdout",
          "text": [
            "Compliance Check Passed: Data is GDPR-compliant.\n"
          ]
        },
        {
          "output_type": "execute_result",
          "data": {
            "text/plain": [
              "True"
            ]
          },
          "metadata": {},
          "execution_count": 1
        }
      ],
      "source": [
        "import json\n",
        "\n",
        "\n",
        "def check_compliance_with_gdpr(data):\n",
        "   \"\"\"\n",
        "   Checks if the retrieved data complies with GDPR standards.\n",
        "   \"\"\"\n",
        "   required_fields = [\"customer_id\", \"customer_name\", \"interaction_data\"]\n",
        "   # Ensure that only minimal personal data is exposed\n",
        "   if all(field in data for field in required_fields):\n",
        "       print(\"Compliance Check Passed: Data is GDPR-compliant.\")\n",
        "       return True\n",
        "   else:\n",
        "       print(\"Compliance Check Failed: Missing or excessive data.\")\n",
        "       return False\n",
        "\n",
        "\n",
        "# Example of data fetched by the RAG system\n",
        "customer_data = {\n",
        "   \"customer_id\": \"12345\",\n",
        "   \"customer_name\": \"John Doe\",\n",
        "   \"interaction_data\": \"Product inquiry details\",\n",
        "}\n",
        "\n",
        "\n",
        "# Check if data complies with GDPR\n",
        "check_compliance_with_gdpr(customer_data)\n"
      ]
    },
    {
      "cell_type": "markdown",
      "source": [
        "The code ensures that only necessary fields (e.g., customer ID, name, and interaction data) are fetched, aligning with data minimization practices under GDPR. It verifies that no excessive personal data is retrieved or exposed."
      ],
      "metadata": {
        "id": "bLfPaNFGZYK-"
      }
    },
    {
      "cell_type": "markdown",
      "source": [
        "### Industry-Specific Regulations\n",
        "\n",
        "In healthcare, compliance with HIPAA (Health Insurance Portability and Accountability Act) is essential when using LLMs to handle patient data. Below is an example where a RAG system ensures that only authorized, compliant patient data is accessed.\n"
      ],
      "metadata": {
        "id": "Gb81NocCZfzO"
      }
    },
    {
      "cell_type": "code",
      "source": [
        "import json\n",
        "\n",
        "\n",
        "def check_compliance_with_gdpr(data):\n",
        "   \"\"\"\n",
        "   Checks if the retrieved data complies with GDPR standards.\n",
        "   \"\"\"\n",
        "   required_fields = [\"customer_id\", \"customer_name\", \"interaction_data\"]\n",
        "   # Ensure that only minimal personal data is exposed\n",
        "   if all(field in data for field in required_fields):\n",
        "       print(\"Compliance Check Passed: Data is GDPR-compliant.\")\n",
        "       return True\n",
        "   else:\n",
        "       print(\"Compliance Check Failed: Missing or excessive data.\")\n",
        "       return False\n",
        "\n",
        "\n",
        "# Example of data fetched by the RAG system\n",
        "customer_data = {\n",
        "   \"customer_id\": \"12345\",\n",
        "   \"customer_name\": \"John Doe\",\n",
        "   \"interaction_data\": \"Product inquiry details\",\n",
        "}\n",
        "\n",
        "\n",
        "# Check if data complies with GDPR\n",
        "check_compliance_with_gdpr(customer_data)"
      ],
      "metadata": {
        "colab": {
          "base_uri": "https://localhost:8080/"
        },
        "id": "JcqFiEdGZIW7",
        "outputId": "b25a9453-629f-4cbb-ae3b-13b572f7c6df"
      },
      "execution_count": 2,
      "outputs": [
        {
          "output_type": "stream",
          "name": "stdout",
          "text": [
            "Compliance Check Passed: Data is GDPR-compliant.\n"
          ]
        },
        {
          "output_type": "execute_result",
          "data": {
            "text/plain": [
              "True"
            ]
          },
          "metadata": {},
          "execution_count": 2
        }
      ]
    },
    {
      "cell_type": "markdown",
      "source": [
        "In healthcare settings, this code checks that only the necessary patient data (like patient ID and medical history) is accessed by the LLM. This approach ensures that private health information (PHI) is handled responsibly under HIPAA standards.\n"
      ],
      "metadata": {
        "id": "1bcBKMhLZr3R"
      }
    },
    {
      "cell_type": "markdown",
      "source": [
        "### Governance Structures and Ethical Guidelines\n",
        "\n",
        "Ethical governance in LLM deployment focuses on transparency, non-discrimination, and fairness. By using a RAG system, organizations can provide ethically sound responses, making sure the data used to generate these responses is curated and non-biased. Below is a simple implementation of an ethical check to ensure LLM outputs align with fairness guidelines.\n"
      ],
      "metadata": {
        "id": "jQNt3NLxZstP"
      }
    },
    {
      "cell_type": "code",
      "source": [
        "def ethical_check_for_fairness(response):\n",
        "   \"\"\"\n",
        "   Checks the LLM response for ethical considerations, ensuring fairness and non-discrimination.\n",
        "   \"\"\"\n",
        "   biased_terms = [\"unfit\", \"inferior\", \"discriminated\"]\n",
        "   if any(biased_term in response.lower() for biased_term in biased_terms):\n",
        "       print(\"Ethical Check Failed: Bias or discriminatory terms detected.\")\n",
        "       return False\n",
        "   else:\n",
        "       print(\"Ethical Check Passed: Response is fair and non-discriminatory.\")\n",
        "       return True\n",
        "\n",
        "\n",
        "# Example of a response generated by the LLM\n",
        "llm_response = \"This candidate is unfit for the role based on their experience.\"\n",
        "\n",
        "\n",
        "# Check if the response is ethically sound\n",
        "ethical_check_for_fairness(llm_response)"
      ],
      "metadata": {
        "colab": {
          "base_uri": "https://localhost:8080/"
        },
        "id": "KAxRjQrDZpSG",
        "outputId": "055805ab-67d0-4dde-cc22-59ce8bcb2f22"
      },
      "execution_count": 3,
      "outputs": [
        {
          "output_type": "stream",
          "name": "stdout",
          "text": [
            "Ethical Check Failed: Bias or discriminatory terms detected.\n"
          ]
        },
        {
          "output_type": "execute_result",
          "data": {
            "text/plain": [
              "False"
            ]
          },
          "metadata": {},
          "execution_count": 3
        }
      ]
    },
    {
      "cell_type": "markdown",
      "source": [
        "The code snippet checks the LLM response for biased terms, ensuring the response adheres to ethical guidelines promoting fairness. If the response contains discriminatory language, the check will fail."
      ],
      "metadata": {
        "id": "gwW1qQ71Z2-6"
      }
    },
    {
      "cell_type": "code",
      "source": [],
      "metadata": {
        "id": "L0x4CQkxZ0C_"
      },
      "execution_count": null,
      "outputs": []
    }
  ]
}